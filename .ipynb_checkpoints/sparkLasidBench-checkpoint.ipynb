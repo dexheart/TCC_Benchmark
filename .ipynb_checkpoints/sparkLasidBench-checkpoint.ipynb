{
 "cells": [
  {
   "cell_type": "markdown",
   "metadata": {},
   "source": [
    "# SparkBenchmark"
   ]
  },
  {
   "cell_type": "code",
   "execution_count": 1,
   "metadata": {},
   "outputs": [],
   "source": [
    "import matplotlib.pyplot\n",
    "import time\n",
    "import matplotlib.pyplot as plt\n",
    "import numpy as np\n",
    "import lfunction\n"
   ]
  },
  {
   "cell_type": "markdown",
   "metadata": {},
   "source": [
    "# Parametros"
   ]
  },
  {
   "cell_type": "markdown",
   "metadata": {},
   "source": [
    "### Coloque os nomes das aplicações que servirão de labels para o gráfico"
   ]
  },
  {
   "cell_type": "code",
   "execution_count": 2,
   "metadata": {},
   "outputs": [],
   "source": [
    "\n",
    "A = 'HD'\n",
    "B = 'Gluster'\n",
    "C = 'SSD'\n"
   ]
  },
  {
   "cell_type": "markdown",
   "metadata": {},
   "source": [
    "## Parâmetros de Repricação de Workload"
   ]
  },
  {
   "cell_type": "code",
   "execution_count": 3,
   "metadata": {},
   "outputs": [],
   "source": [
    "test1 = \"hd.csv\"\n",
    "\n",
    "test2 = \"gluster.csv\"\n",
    "\n",
    "test3 = \"ssd.csv\""
   ]
  },
  {
   "cell_type": "markdown",
   "metadata": {},
   "source": [
    "## Número de Repetições"
   ]
  },
  {
   "cell_type": "code",
   "execution_count": 4,
   "metadata": {},
   "outputs": [],
   "source": [
    "n1 = 10\n",
    "n2 = 50\n",
    "n3 = 250"
   ]
  },
  {
   "cell_type": "markdown",
   "metadata": {},
   "source": [
    "### Coloque os caminhos desejados dos Datasets"
   ]
  },
  {
   "cell_type": "code",
   "execution_count": 5,
   "metadata": {},
   "outputs": [],
   "source": [
    "fname = 'Life_Expectancy_Data.csv'\n",
    "\n",
    "camA = '/home/tiago/Projeto_Final_Database/'\n",
    "caminhoA = camA + fname  # HD\n",
    "#caminhoA = '/home/tiago/Projeto_Final_Database/Life_Expectancy_Data.csv' # HD\n",
    "\n",
    "camB = '/data/Projeto_Final_Database/'\n",
    "caminhoB = camB + fname  # Gluster\n",
    "#caminhoB = '/data/Projeto_Final_Database/Life_Expectancy_Data.csv' # Gluster\n",
    "\n",
    "camC = '/tmp/Projeto_Final_Database/'\n",
    "caminhoC = camC + fname  # SSD\n",
    "#caminhoC = '/tmp/Projeto_Final_Database/Life_Expectancy_Data.csv' # SSD\n"
   ]
  },
  {
   "cell_type": "markdown",
   "metadata": {},
   "source": [
    "### Logo abaixo você poderá editar título do gráfico e as labels correspondentes de RUN/LOOP (Esses valores não afetam nos testes)\n"
   ]
  },
  {
   "cell_type": "code",
   "execution_count": 6,
   "metadata": {},
   "outputs": [],
   "source": [
    "cod = 'LifeExp'\n",
    "run = '30r'\n",
    "loop = '2l'\n",
    "\n",
    "title = 'Desempenho do código ' + cod + ' | ' + run + ' x ' + loop\n",
    "\n",
    "figName = cod + '_' + run + '_' + loop + '.png'\n"
   ]
  },
  {
   "cell_type": "markdown",
   "metadata": {},
   "source": [
    "# Execução"
   ]
  },
  {
   "cell_type": "markdown",
   "metadata": {},
   "source": [
    "### Abaixo você deve colocar o caminho do código em Python Notebook que deverá ser testado"
   ]
  },
  {
   "cell_type": "code",
   "execution_count": 7,
   "metadata": {},
   "outputs": [],
   "source": [
    "%%capture\n",
    "\n",
    "def firstCode():\n",
    "    try:\n",
    "        %run ./lifeExpectancy.ipynb\n",
    "    except:\n",
    "        print(\"Não foi possível executar sua aplicação\")\n",
    "\n",
    "def secondCode():\n",
    "    try:\n",
    "        %run ./lifeExpectancy.ipynb\n",
    "    except:\n",
    "        print(\"Não foi possível executar sua aplicação\")\n",
    "    \n",
    "def thirdCode():\n",
    "    try:\n",
    "        %run ./lifeExpectancy.ipynb\n",
    "    except:\n",
    "        print(\"Não foi possível executar sua aplicação\")"
   ]
  },
  {
   "cell_type": "markdown",
   "metadata": {},
   "source": [
    "# Testes"
   ]
  },
  {
   "cell_type": "markdown",
   "metadata": {},
   "source": [
    "### Os valores numericos abaixo correspondem respectivamente, LOOP e RUN (Esses valores afetam no resultado dos testes)"
   ]
  },
  {
   "cell_type": "markdown",
   "metadata": {},
   "source": [
    "### RUN = Corresponde ao número de vezes que o seu código será executado, a média de tempo é tirada através do número total de RUNS."
   ]
  },
  {
   "cell_type": "markdown",
   "metadata": {},
   "source": [
    "### LOOP = Corresponde ao número de vezes que seu código será executado, o desvio padrão é tirado do número total de loops. A cada série de loops será considerado o melhor valor. Ajuste o número de loops de acordo com a necessidade precisão do resultado."
   ]
  },
  {
   "cell_type": "markdown",
   "metadata": {},
   "source": [
    "### O número do total de vezes que seu código será executado é definido por LOOP x RUN, tenha isso em mente quando for alterar os valores."
   ]
  },
  {
   "cell_type": "markdown",
   "metadata": {},
   "source": [
    "### Atenção: Por padrão o número de runs é definido por 30 conforme abordado no teste amostral do Raj Jain, no entanto você é livre para alterar esse valor"
   ]
  },
  {
   "cell_type": "code",
   "execution_count": 8,
   "metadata": {},
   "outputs": [
    {
     "ename": "SystemError",
     "evalue": "<built-in method write of _io.BufferedWriter object at 0x7f3aa0e16888> returned a result with an error set",
     "output_type": "error",
     "traceback": [
      "\u001b[0;31m---------------------------------------------------------------------------\u001b[0m",
      "\u001b[0;31mKeyboardInterrupt\u001b[0m                         Traceback (most recent call last)",
      "\u001b[0;32m/usr/lib/spark/python/pyspark/context.py\u001b[0m in \u001b[0;36msignal_handler\u001b[0;34m(signal, frame)\u001b[0m\n\u001b[1;32m    269\u001b[0m             \u001b[0mself\u001b[0m\u001b[0;34m.\u001b[0m\u001b[0mcancelAllJobs\u001b[0m\u001b[0;34m(\u001b[0m\u001b[0;34m)\u001b[0m\u001b[0;34m\u001b[0m\u001b[0;34m\u001b[0m\u001b[0m\n\u001b[0;32m--> 270\u001b[0;31m             \u001b[0;32mraise\u001b[0m \u001b[0mKeyboardInterrupt\u001b[0m\u001b[0;34m(\u001b[0m\u001b[0;34m)\u001b[0m\u001b[0;34m\u001b[0m\u001b[0;34m\u001b[0m\u001b[0m\n\u001b[0m\u001b[1;32m    271\u001b[0m \u001b[0;34m\u001b[0m\u001b[0m\n",
      "\u001b[0;31mKeyboardInterrupt\u001b[0m: ",
      "\nThe above exception was the direct cause of the following exception:\n",
      "\u001b[0;31mSystemError\u001b[0m                               Traceback (most recent call last)",
      "\u001b[0;31mSystemError\u001b[0m: <built-in method write of _io.BufferedWriter object at 0x7f3aa0e16888> returned a result with an error set",
      "\nThe above exception was the direct cause of the following exception:\n",
      "\u001b[0;31mSystemError\u001b[0m                               Traceback (most recent call last)",
      "\u001b[0;31mSystemError\u001b[0m: <built-in method write of _io.BufferedWriter object at 0x7f3aa0e16888> returned a result with an error set",
      "\nThe above exception was the direct cause of the following exception:\n",
      "\u001b[0;31mSystemError\u001b[0m                               Traceback (most recent call last)",
      "\u001b[0;31mSystemError\u001b[0m: <built-in method write of _io.FileIO object at 0x7f3afe0b61f8> returned a result with an error set",
      "\nThe above exception was the direct cause of the following exception:\n",
      "\u001b[0;31mSystemError\u001b[0m                               Traceback (most recent call last)",
      "\u001b[0;31mSystemError\u001b[0m: <built-in method write of _io.BufferedWriter object at 0x7f3aa0e16888> returned a result with an error set",
      "\nThe above exception was the direct cause of the following exception:\n",
      "\u001b[0;31mSystemError\u001b[0m                               Traceback (most recent call last)",
      "\u001b[0;31mSystemError\u001b[0m: <built-in method write of _io.BufferedWriter object at 0x7f3aa0e16888> returned a result with an error set",
      "\nThe above exception was the direct cause of the following exception:\n",
      "\u001b[0;31mSystemError\u001b[0m                               Traceback (most recent call last)",
      "\u001b[0;31mSystemError\u001b[0m: <built-in method write of _io.FileIO object at 0x7f3afe0b61f8> returned a result with an error set",
      "\nThe above exception was the direct cause of the following exception:\n",
      "\u001b[0;31mSystemError\u001b[0m                               Traceback (most recent call last)",
      "\u001b[0;31mSystemError\u001b[0m: <built-in method write of _io.BufferedWriter object at 0x7f3aa0e16888> returned a result with an error set",
      "\nThe above exception was the direct cause of the following exception:\n",
      "\u001b[0;31mSystemError\u001b[0m                               Traceback (most recent call last)",
      "\u001b[0;31mSystemError\u001b[0m: <built-in method write of _io.BufferedWriter object at 0x7f3aa0e16888> returned a result with an error set",
      "\nThe above exception was the direct cause of the following exception:\n",
      "\u001b[0;31mSystemError\u001b[0m                               Traceback (most recent call last)",
      "\u001b[0;31mSystemError\u001b[0m: <built-in method write of _io.FileIO object at 0x7f3afe0b61f8> returned a result with an error set",
      "\nThe above exception was the direct cause of the following exception:\n",
      "\u001b[0;31mSystemError\u001b[0m                               Traceback (most recent call last)",
      "\u001b[0;31mSystemError\u001b[0m: <built-in method write of _io.BufferedWriter object at 0x7f3aa0e16888> returned a result with an error set",
      "\nThe above exception was the direct cause of the following exception:\n",
      "\u001b[0;31mSystemError\u001b[0m                               Traceback (most recent call last)",
      "\u001b[0;31mSystemError\u001b[0m: <built-in method write of _io.BufferedWriter object at 0x7f3aa0e16888> returned a result with an error set",
      "\nThe above exception was the direct cause of the following exception:\n",
      "\u001b[0;31mSystemError\u001b[0m                               Traceback (most recent call last)",
      "\u001b[0;31mSystemError\u001b[0m: <built-in method write of _io.FileIO object at 0x7f3afe0b61f8> returned a result with an error set",
      "\nThe above exception was the direct cause of the following exception:\n",
      "\u001b[0;31mSystemError\u001b[0m                               Traceback (most recent call last)",
      "\u001b[0;31mSystemError\u001b[0m: <built-in method write of _io.BufferedWriter object at 0x7f3aa0e16888> returned a result with an error set",
      "\nThe above exception was the direct cause of the following exception:\n",
      "\u001b[0;31mSystemError\u001b[0m                               Traceback (most recent call last)",
      "\u001b[0;31mSystemError\u001b[0m: <built-in method write of _io.BufferedWriter object at 0x7f3aa0e16888> returned a result with an error set",
      "\nThe above exception was the direct cause of the following exception:\n",
      "\u001b[0;31mSystemError\u001b[0m                               Traceback (most recent call last)",
      "\u001b[0;31mSystemError\u001b[0m: <built-in method write of _io.FileIO object at 0x7f3afe0b61f8> returned a result with an error set",
      "\nThe above exception was the direct cause of the following exception:\n",
      "\u001b[0;31mSystemError\u001b[0m                               Traceback (most recent call last)",
      "\u001b[0;31mSystemError\u001b[0m: <built-in method write of _io.BufferedWriter object at 0x7f3aa0e16888> returned a result with an error set",
      "\nThe above exception was the direct cause of the following exception:\n",
      "\u001b[0;31mSystemError\u001b[0m                               Traceback (most recent call last)",
      "\u001b[0;31mSystemError\u001b[0m: <built-in method write of _io.BufferedWriter object at 0x7f3aa0e16888> returned a result with an error set",
      "\nThe above exception was the direct cause of the following exception:\n",
      "\u001b[0;31mSystemError\u001b[0m                               Traceback (most recent call last)",
      "\u001b[0;32m~/Git_Tiago/sparkLasidBench/lifeExpectancy.ipynb\u001b[0m in \u001b[0;36m<module>\u001b[0;34m\u001b[0m\n\u001b[1;32m     17\u001b[0m \u001b[0maxes\u001b[0m\u001b[0;34m.\u001b[0m\u001b[0mset_title\u001b[0m\u001b[0;34m(\u001b[0m\u001b[0;34m'Life Expectancy in 2013'\u001b[0m\u001b[0;34m)\u001b[0m\u001b[0;34m\u001b[0m\u001b[0;34m\u001b[0m\u001b[0m\n\u001b[1;32m     18\u001b[0m \u001b[0;34m\u001b[0m\u001b[0m\n\u001b[0;32m---> 19\u001b[0;31m \u001b[0mplt\u001b[0m\u001b[0;34m.\u001b[0m\u001b[0msavefig\u001b[0m\u001b[0;34m(\u001b[0m\u001b[0;34m'./life_expect_stat_2013.png'\u001b[0m\u001b[0;34m,\u001b[0m \u001b[0mdpi\u001b[0m\u001b[0;34m=\u001b[0m\u001b[0;36m300\u001b[0m\u001b[0;34m)\u001b[0m\u001b[0;34m\u001b[0m\u001b[0;34m\u001b[0m\u001b[0m\n\u001b[0m\u001b[1;32m     20\u001b[0m \u001b[0mplt\u001b[0m\u001b[0;34m.\u001b[0m\u001b[0mshow\u001b[0m\u001b[0;34m(\u001b[0m\u001b[0;34m)\u001b[0m\u001b[0;34m\u001b[0m\u001b[0;34m\u001b[0m\u001b[0m\n",
      "\u001b[0;32m/usr/local/lib/python3.6/dist-packages/matplotlib/pyplot.py\u001b[0m in \u001b[0;36msavefig\u001b[0;34m(*args, **kwargs)\u001b[0m\n\u001b[1;32m    687\u001b[0m \u001b[0;32mdef\u001b[0m \u001b[0msavefig\u001b[0m\u001b[0;34m(\u001b[0m\u001b[0;34m*\u001b[0m\u001b[0margs\u001b[0m\u001b[0;34m,\u001b[0m \u001b[0;34m**\u001b[0m\u001b[0mkwargs\u001b[0m\u001b[0;34m)\u001b[0m\u001b[0;34m:\u001b[0m\u001b[0;34m\u001b[0m\u001b[0;34m\u001b[0m\u001b[0m\n\u001b[1;32m    688\u001b[0m     \u001b[0mfig\u001b[0m \u001b[0;34m=\u001b[0m \u001b[0mgcf\u001b[0m\u001b[0;34m(\u001b[0m\u001b[0;34m)\u001b[0m\u001b[0;34m\u001b[0m\u001b[0;34m\u001b[0m\u001b[0m\n\u001b[0;32m--> 689\u001b[0;31m     \u001b[0mres\u001b[0m \u001b[0;34m=\u001b[0m \u001b[0mfig\u001b[0m\u001b[0;34m.\u001b[0m\u001b[0msavefig\u001b[0m\u001b[0;34m(\u001b[0m\u001b[0;34m*\u001b[0m\u001b[0margs\u001b[0m\u001b[0;34m,\u001b[0m \u001b[0;34m**\u001b[0m\u001b[0mkwargs\u001b[0m\u001b[0;34m)\u001b[0m\u001b[0;34m\u001b[0m\u001b[0;34m\u001b[0m\u001b[0m\n\u001b[0m\u001b[1;32m    690\u001b[0m     \u001b[0mfig\u001b[0m\u001b[0;34m.\u001b[0m\u001b[0mcanvas\u001b[0m\u001b[0;34m.\u001b[0m\u001b[0mdraw_idle\u001b[0m\u001b[0;34m(\u001b[0m\u001b[0;34m)\u001b[0m   \u001b[0;31m# need this if 'transparent=True' to reset colors\u001b[0m\u001b[0;34m\u001b[0m\u001b[0;34m\u001b[0m\u001b[0m\n\u001b[1;32m    691\u001b[0m     \u001b[0;32mreturn\u001b[0m \u001b[0mres\u001b[0m\u001b[0;34m\u001b[0m\u001b[0;34m\u001b[0m\u001b[0m\n",
      "\u001b[0;32m/usr/local/lib/python3.6/dist-packages/matplotlib/figure.py\u001b[0m in \u001b[0;36msavefig\u001b[0;34m(self, fname, frameon, transparent, **kwargs)\u001b[0m\n\u001b[1;32m   2092\u001b[0m             \u001b[0mself\u001b[0m\u001b[0;34m.\u001b[0m\u001b[0mset_frameon\u001b[0m\u001b[0;34m(\u001b[0m\u001b[0mframeon\u001b[0m\u001b[0;34m)\u001b[0m\u001b[0;34m\u001b[0m\u001b[0;34m\u001b[0m\u001b[0m\n\u001b[1;32m   2093\u001b[0m \u001b[0;34m\u001b[0m\u001b[0m\n\u001b[0;32m-> 2094\u001b[0;31m         \u001b[0mself\u001b[0m\u001b[0;34m.\u001b[0m\u001b[0mcanvas\u001b[0m\u001b[0;34m.\u001b[0m\u001b[0mprint_figure\u001b[0m\u001b[0;34m(\u001b[0m\u001b[0mfname\u001b[0m\u001b[0;34m,\u001b[0m \u001b[0;34m**\u001b[0m\u001b[0mkwargs\u001b[0m\u001b[0;34m)\u001b[0m\u001b[0;34m\u001b[0m\u001b[0;34m\u001b[0m\u001b[0m\n\u001b[0m\u001b[1;32m   2095\u001b[0m \u001b[0;34m\u001b[0m\u001b[0m\n\u001b[1;32m   2096\u001b[0m         \u001b[0;32mif\u001b[0m \u001b[0mframeon\u001b[0m\u001b[0;34m:\u001b[0m\u001b[0;34m\u001b[0m\u001b[0;34m\u001b[0m\u001b[0m\n",
      "\u001b[0;32m/usr/local/lib/python3.6/dist-packages/matplotlib/backend_bases.py\u001b[0m in \u001b[0;36mprint_figure\u001b[0;34m(self, filename, dpi, facecolor, edgecolor, orientation, format, bbox_inches, **kwargs)\u001b[0m\n\u001b[1;32m   2073\u001b[0m                     \u001b[0morientation\u001b[0m\u001b[0;34m=\u001b[0m\u001b[0morientation\u001b[0m\u001b[0;34m,\u001b[0m\u001b[0;34m\u001b[0m\u001b[0;34m\u001b[0m\u001b[0m\n\u001b[1;32m   2074\u001b[0m                     \u001b[0mbbox_inches_restore\u001b[0m\u001b[0;34m=\u001b[0m\u001b[0m_bbox_inches_restore\u001b[0m\u001b[0;34m,\u001b[0m\u001b[0;34m\u001b[0m\u001b[0;34m\u001b[0m\u001b[0m\n\u001b[0;32m-> 2075\u001b[0;31m                     **kwargs)\n\u001b[0m\u001b[1;32m   2076\u001b[0m             \u001b[0;32mfinally\u001b[0m\u001b[0;34m:\u001b[0m\u001b[0;34m\u001b[0m\u001b[0;34m\u001b[0m\u001b[0m\n\u001b[1;32m   2077\u001b[0m                 \u001b[0;32mif\u001b[0m \u001b[0mbbox_inches\u001b[0m \u001b[0;32mand\u001b[0m \u001b[0mrestore_bbox\u001b[0m\u001b[0;34m:\u001b[0m\u001b[0;34m\u001b[0m\u001b[0;34m\u001b[0m\u001b[0m\n",
      "\u001b[0;32m/usr/local/lib/python3.6/dist-packages/matplotlib/backends/backend_agg.py\u001b[0m in \u001b[0;36mprint_png\u001b[0;34m(self, filename_or_obj, *args, **kwargs)\u001b[0m\n\u001b[1;32m    521\u001b[0m                 \u001b[0mcbook\u001b[0m\u001b[0;34m.\u001b[0m\u001b[0mopen_file_cm\u001b[0m\u001b[0;34m(\u001b[0m\u001b[0mfilename_or_obj\u001b[0m\u001b[0;34m,\u001b[0m \u001b[0;34m\"wb\"\u001b[0m\u001b[0;34m)\u001b[0m \u001b[0;32mas\u001b[0m \u001b[0mfh\u001b[0m\u001b[0;34m:\u001b[0m\u001b[0;34m\u001b[0m\u001b[0;34m\u001b[0m\u001b[0m\n\u001b[1;32m    522\u001b[0m             _png.write_png(renderer._renderer, fh,\n\u001b[0;32m--> 523\u001b[0;31m                             self.figure.dpi, metadata=metadata)\n\u001b[0m\u001b[1;32m    524\u001b[0m \u001b[0;34m\u001b[0m\u001b[0m\n\u001b[1;32m    525\u001b[0m     \u001b[0;32mdef\u001b[0m \u001b[0mprint_to_buffer\u001b[0m\u001b[0;34m(\u001b[0m\u001b[0mself\u001b[0m\u001b[0;34m)\u001b[0m\u001b[0;34m:\u001b[0m\u001b[0;34m\u001b[0m\u001b[0;34m\u001b[0m\u001b[0m\n",
      "\u001b[0;31mSystemError\u001b[0m: <built-in method write of _io.BufferedWriter object at 0x7f3aa0e16888> returned a result with an error set"
     ]
    }
   ],
   "source": [
    "%%capture\n",
    "path = caminhoA\n",
    "%store path\n",
    "a = %timeit -n 4 -r 4 -o firstCode()"
   ]
  },
  {
   "cell_type": "code",
   "execution_count": null,
   "metadata": {},
   "outputs": [],
   "source": [
    "%%capture\n",
    "path = caminhoB\n",
    "%store path\n",
    "b = %timeit -n 4 -r 4 -o secondCode()"
   ]
  },
  {
   "cell_type": "code",
   "execution_count": null,
   "metadata": {},
   "outputs": [],
   "source": [
    "%%capture\n",
    "path = caminhoC\n",
    "%store path\n",
    "c = %timeit -n 4 -r 4 -o thirdCode()"
   ]
  },
  {
   "cell_type": "markdown",
   "metadata": {},
   "source": [
    "# Resultados"
   ]
  },
  {
   "cell_type": "markdown",
   "metadata": {},
   "source": [
    "### O primeiro valor mostrado trata-se da Média Aritmética do Número de Runs"
   ]
  },
  {
   "cell_type": "markdown",
   "metadata": {},
   "source": [
    "### O segundo valor mostrado trata-se do Desvio padrão"
   ]
  },
  {
   "cell_type": "code",
   "execution_count": null,
   "metadata": {},
   "outputs": [],
   "source": [
    "print(\"\")\n",
    "\n",
    "print(\"- Tempo de execução \" + A + \":\")\n",
    "print(a)\n",
    "\n",
    "print(\"\")\n",
    "\n",
    "print(\"- Tempo de execução \" + B + \":\")\n",
    "print(b)\n",
    "\n",
    "print(\"\")\n",
    "\n",
    "print(\"- Tempo de execução \" + C + \":\")\n",
    "print(c)\n"
   ]
  },
  {
   "cell_type": "markdown",
   "metadata": {},
   "source": [
    "# Gráfico"
   ]
  },
  {
   "cell_type": "markdown",
   "metadata": {},
   "source": [
    "### Ao final é apresentado um gráfico em barras verticais, e salvo em um arquivo PNG"
   ]
  },
  {
   "cell_type": "markdown",
   "metadata": {},
   "source": [
    "### Atenção: Por padrão, todos os valores de tempo são convertidos para segundos"
   ]
  },
  {
   "cell_type": "code",
   "execution_count": null,
   "metadata": {},
   "outputs": [],
   "source": [
    "plt.rcdefaults()\n",
    "fig, ax = plt.subplots()\n",
    "\n",
    "\n",
    "\n",
    "# Convertendo Objeto para String\n",
    "\n",
    "a = str(a)\n",
    "b = str(b)\n",
    "c = str(c)\n",
    "\n",
    "# Separando a média/desvio P. de cada componente testado e Convertendo tudo para Segundos caso não esteja\n",
    "\n",
    "aTime, aDev = lfunction.tratamento(a) \n",
    "bTime, bDev = lfunction.tratamento(b)\n",
    "cTime, cDev = lfunction.tratamento(c)\n",
    "\n",
    "\n",
    "\n",
    "# Atribuindo todos os dados ao gráfico\n",
    "\n",
    "people = (A, B, C)\n",
    "results = (aTime, bTime, cTime)\n",
    "dev = (aDev, bDev, cDev)\n",
    "\n",
    "x_pos = np.arange(len(people))\n",
    "performance = results\n",
    "\n",
    "error = dev\n",
    "\n",
    "plt.bar(x_pos, performance, yerr=error, align='center', alpha=0.4)\n",
    "plt.xticks(x_pos, people)\n",
    "plt.ylabel('Performance - Seconds')\n",
    "plt.title(title)\n",
    "\n",
    "\n",
    "plt.savefig(figName)\n",
    "plt.show()"
   ]
  },
  {
   "cell_type": "code",
   "execution_count": null,
   "metadata": {},
   "outputs": [],
   "source": [
    "%%capture\n",
    "#path = lfunction.duplicate(camA ,n1, test1, caminhoA)\n",
    "#path = camA + '10life.csv'\n",
    "path = '/home/tiago/Projeto_Final_Database/10life.csv'\n",
    "%store path\n",
    "a = %timeit -n 4 -r 4 -o firstCode()"
   ]
  },
  {
   "cell_type": "code",
   "execution_count": null,
   "metadata": {},
   "outputs": [],
   "source": [
    "%%capture\n",
    "#path = lfunction.duplicate(camA, n2, test1, caminhoA)\n",
    "#path = camA + '50life.csv'\n",
    "path = '/home/tiago/Projeto_Final_Database/50life.csv'\n",
    "%store path\n",
    "b = %timeit -n 4 -r 4 -o firstCode()"
   ]
  },
  {
   "cell_type": "code",
   "execution_count": null,
   "metadata": {},
   "outputs": [],
   "source": [
    "%%capture\n",
    "#path = lfunction.duplicate(camA, n3, test1, caminhoA)\n",
    "#path = camA + '250life.csv'\n",
    "path = '/home/tiago/Projeto_Final_Database/250life.csv'\n",
    "%store path\n",
    "c = %timeit -n 4 -r 4 -o firstCode()"
   ]
  },
  {
   "cell_type": "code",
   "execution_count": null,
   "metadata": {},
   "outputs": [],
   "source": [
    "print(\"\")\n",
    "\n",
    "print(\"- Tempo de execução \" + A + str(n1) + \":\")\n",
    "print(a)\n",
    "\n",
    "print(\"\")\n",
    "\n",
    "print(\"- Tempo de execução \" + A +  str(n2) + \":\")\n",
    "print(b)\n",
    "\n",
    "print(\"\")\n",
    "\n",
    "print(\"- Tempo de execução \" + A + str(n3) + \":\")\n",
    "print(c)"
   ]
  },
  {
   "cell_type": "code",
   "execution_count": null,
   "metadata": {},
   "outputs": [],
   "source": [
    "plt.rcdefaults()\n",
    "fig, ax = plt.subplots()\n",
    "\n",
    "\n",
    "\n",
    "# Convertendo Objeto para String\n",
    "\n",
    "a = str(a)\n",
    "b = str(b)\n",
    "c = str(c)\n",
    "\n",
    "# Separando a média/desvio P. de cada componente testado e Convertendo tudo para Segundos caso não esteja\n",
    "\n",
    "aTime, aDev = lfunction.tratamento(a) \n",
    "bTime, bDev = lfunction.tratamento(b)\n",
    "cTime, cDev = lfunction.tratamento(c)\n",
    "\n",
    "# Atribuindo todos os dados ao gráfico\n",
    "\n",
    "people = (str(n1)+A, str(n2)+A, str(n3)+A)\n",
    "results = (aTime, bTime, cTime)\n",
    "dev = (aDev, bDev, cDev)\n",
    "\n",
    "x_pos = np.arange(len(people))\n",
    "performance = results\n",
    "\n",
    "error = dev\n",
    "\n",
    "plt.bar(x_pos, performance, yerr=error, align='center', alpha=0.4)\n",
    "plt.xticks(x_pos, people)\n",
    "plt.ylabel('Performance - Seconds')\n",
    "plt.title(title)\n",
    "\n",
    "\n",
    "plt.savefig(\"hardTest\" + A + \".png\")\n",
    "plt.show()"
   ]
  },
  {
   "cell_type": "code",
   "execution_count": null,
   "metadata": {},
   "outputs": [],
   "source": [
    "%%capture\n",
    "#path = lfunction.duplicate(camB, n1, test1, caminhoA)\n",
    "#path = camB + '10life.csv'\n",
    "path = '/data/Projeto_Final_Database/10life.csv'\n",
    "%store path\n",
    "a = %timeit -n 4 -r 4 -o secondCode()"
   ]
  },
  {
   "cell_type": "code",
   "execution_count": null,
   "metadata": {},
   "outputs": [],
   "source": [
    "%%capture\n",
    "#path = lfunction.duplicate(camB, n2, test1, caminhoA)\n",
    "#path = camB + '50life.csv'\n",
    "path = '/data/Projeto_Final_Database/50life.csv'\n",
    "%store path\n",
    "b = %timeit -n 4 -r 4 -o secondCode()"
   ]
  },
  {
   "cell_type": "code",
   "execution_count": null,
   "metadata": {},
   "outputs": [],
   "source": [
    "%%capture\n",
    "#path = lfunction.duplicate(camB, n3, test1, caminhoA)\n",
    "#path = camB + '250life.csv'\n",
    "path = '/data/Projeto_Final_Database/250life.csv'\n",
    "%store path\n",
    "c = %timeit -n 4 -r 4 -o secondCode()"
   ]
  },
  {
   "cell_type": "code",
   "execution_count": null,
   "metadata": {},
   "outputs": [],
   "source": [
    "print(\"\")\n",
    "\n",
    "print(\"- Tempo de execução \" + B + str(n1) + \":\")\n",
    "print(a)\n",
    "\n",
    "print(\"\")\n",
    "\n",
    "print(\"- Tempo de execução \" + B +  str(n2) + \":\")\n",
    "print(b)\n",
    "\n",
    "print(\"\")\n",
    "\n",
    "print(\"- Tempo de execução \" + B + str(n3) + \":\")\n",
    "print(c)"
   ]
  },
  {
   "cell_type": "code",
   "execution_count": null,
   "metadata": {},
   "outputs": [],
   "source": [
    "plt.rcdefaults()\n",
    "fig, ax = plt.subplots()\n",
    "\n",
    "\n",
    "\n",
    "# Convertendo Objeto para String\n",
    "\n",
    "a = str(a)\n",
    "b = str(b)\n",
    "c = str(c)\n",
    "\n",
    "# Separando a média/desvio P. de cada componente testado e Convertendo tudo para Segundos caso não esteja\n",
    "\n",
    "aTime, aDev = lfunction.tratamento(a) \n",
    "bTime, bDev = lfunction.tratamento(b)\n",
    "cTime, cDev = lfunction.tratamento(c)\n",
    "\n",
    "# Atribuindo todos os dados ao gráfico\n",
    "\n",
    "people = (str(n1)+B, str(n2)+B, str(n3)+B)\n",
    "results = (aTime, bTime, cTime)\n",
    "dev = (aDev, bDev, cDev)\n",
    "\n",
    "x_pos = np.arange(len(people))\n",
    "performance = results\n",
    "\n",
    "error = dev\n",
    "\n",
    "plt.bar(x_pos, performance, yerr=error, align='center', alpha=0.4)\n",
    "plt.xticks(x_pos, people)\n",
    "plt.ylabel('Performance - Seconds')\n",
    "plt.title(title)\n",
    "\n",
    "\n",
    "plt.savefig(\"hardTest\" + B + \".png\")\n",
    "plt.show()"
   ]
  },
  {
   "cell_type": "code",
   "execution_count": null,
   "metadata": {},
   "outputs": [],
   "source": [
    "%%capture\n",
    "#path = lfunction.duplicate(camB, n1, test1, caminhoA)\n",
    "#path = camC + '10life.csv'\n",
    "path = '/tmp/Projeto_Final_Database/10life.csv'\n",
    "%store path\n",
    "a = %timeit -n 4 -r 4 -o thirdCode()"
   ]
  },
  {
   "cell_type": "code",
   "execution_count": null,
   "metadata": {},
   "outputs": [],
   "source": [
    "%%capture\n",
    "#path = lfunction.duplicate(camB, n2, test1, caminhoA)\n",
    "#path = camC + '50life.csv'\n",
    "path = '/tmp/Projeto_Final_Database/50life.csv'\n",
    "%store path\n",
    "b = %timeit -n 4 -r 4 -o thirdCode()"
   ]
  },
  {
   "cell_type": "code",
   "execution_count": null,
   "metadata": {},
   "outputs": [],
   "source": [
    "%%capture\n",
    "#path = lfunction.duplicate(camB, n3, test1, caminhoA)\n",
    "#path = camC + '250life.csv'\n",
    "path = '/tmp/Projeto_Final_Database/250life.csv'\n",
    "%store path\n",
    "c = %timeit -n 4 -r 4 -o thirdCode()"
   ]
  },
  {
   "cell_type": "code",
   "execution_count": null,
   "metadata": {},
   "outputs": [],
   "source": [
    "print(\"\")\n",
    "\n",
    "print(\"- Tempo de execução \" + C + str(n1) + \":\")\n",
    "print(a)\n",
    "\n",
    "print(\"\")\n",
    "\n",
    "print(\"- Tempo de execução \" + C +  str(n2) + \":\")\n",
    "print(b)\n",
    "\n",
    "print(\"\")\n",
    "\n",
    "print(\"- Tempo de execução \" + C + str(n3) + \":\")\n",
    "print(c)"
   ]
  },
  {
   "cell_type": "code",
   "execution_count": null,
   "metadata": {},
   "outputs": [],
   "source": [
    "plt.rcdefaults()\n",
    "fig, ax = plt.subplots()\n",
    "\n",
    "\n",
    "\n",
    "# Convertendo Objeto para String\n",
    "\n",
    "a = str(a)\n",
    "b = str(b)\n",
    "c = str(c)\n",
    "\n",
    "# Separando a média/desvio P. de cada componente testado e Convertendo tudo para Segundos caso não esteja\n",
    "\n",
    "aTime, aDev = lfunction.tratamento(a) \n",
    "bTime, bDev = lfunction.tratamento(b)\n",
    "cTime, cDev = lfunction.tratamento(c)\n",
    "\n",
    "# Atribuindo todos os dados ao gráfico\n",
    "\n",
    "people = (str(n1)+C, str(n2)+C, str(n3)+C)\n",
    "results = (aTime, bTime, cTime)\n",
    "dev = (aDev, bDev, cDev)\n",
    "\n",
    "x_pos = np.arange(len(people))\n",
    "performance = results\n",
    "\n",
    "error = dev\n",
    "\n",
    "plt.bar(x_pos, performance, yerr=error, align='center', alpha=0.4)\n",
    "plt.xticks(x_pos, people)\n",
    "plt.ylabel('Performance - Seconds')\n",
    "plt.title(title)\n",
    "\n",
    "\n",
    "plt.savefig(\"hardTest\" + C + \".png\")\n",
    "plt.show()"
   ]
  }
 ],
 "metadata": {
  "kernelspec": {
   "display_name": "Python 3",
   "language": "python",
   "name": "python3"
  },
  "language_info": {
   "codemirror_mode": {
    "name": "ipython",
    "version": 3
   },
   "file_extension": ".py",
   "mimetype": "text/x-python",
   "name": "python",
   "nbconvert_exporter": "python",
   "pygments_lexer": "ipython3",
   "version": "3.6.8"
  }
 },
 "nbformat": 4,
 "nbformat_minor": 4
}
