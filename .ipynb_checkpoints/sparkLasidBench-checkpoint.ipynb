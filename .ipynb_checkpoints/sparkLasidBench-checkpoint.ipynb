{
 "cells": [
  {
   "cell_type": "markdown",
   "metadata": {},
   "source": [
    "# SparkBenchmark"
   ]
  },
  {
   "cell_type": "code",
   "execution_count": 1,
   "metadata": {},
   "outputs": [],
   "source": [
    "import matplotlib.pyplot\n",
    "import time\n",
    "import matplotlib.pyplot as plt\n",
    "import numpy as np\n",
    "import convert\n"
   ]
  },
  {
   "cell_type": "markdown",
   "metadata": {},
   "source": [
    "# Parametros"
   ]
  },
  {
   "cell_type": "markdown",
   "metadata": {},
   "source": [
    "### Coloque os nomes das aplicações que servirão de labels para o gráfico"
   ]
  },
  {
   "cell_type": "code",
   "execution_count": 2,
   "metadata": {},
   "outputs": [],
   "source": [
    "\n",
    "A = 'HD'\n",
    "B = 'Gluster'\n",
    "C = 'SSD'\n"
   ]
  },
  {
   "cell_type": "markdown",
   "metadata": {},
   "source": [
    "### Coloque os caminhos desejados dos Datasets"
   ]
  },
  {
   "cell_type": "code",
   "execution_count": 3,
   "metadata": {},
   "outputs": [],
   "source": [
    "caminhoA = '/home/tiago/Projeto_Final_Database/Life_Expectancy_Data.csv' # HD\n",
    "#caminhoA = '/home/tiago/Projeto_Final_Database/Life_Expectancy_Data.csv' # HD\n",
    "\n",
    "\n",
    "caminhoB = '/data/Projeto_Final_Database/Life_Expectancy_Data.csv' # Gluster\n",
    "#caminhoB = '/data/Projeto_Final_Database/Life_Expectancy_Data.csv' # Gluster\n",
    "\n",
    "\n",
    "caminhoC = '/tmp/Projeto_Final_Database/Life_Expectancy_Data.csv' # SSD\n",
    "#caminhoC = '/tmp/Projeto_Final_Database/Life_Expectancy_Data.csv' # SSD\n"
   ]
  },
  {
   "cell_type": "markdown",
   "metadata": {},
   "source": [
    "### Logo abaixo você poderá editar título do gráfico e as labels correspondentes de RUN/LOOP (Esses valores não afetam nos testes)\n"
   ]
  },
  {
   "cell_type": "code",
   "execution_count": 4,
   "metadata": {},
   "outputs": [],
   "source": [
    "cod = 'LifeExp'\n",
    "run = '30r'\n",
    "loop = '2l'\n",
    "\n",
    "title = 'Desempenho do código ' + cod + ' | ' + run + ' x ' + loop\n",
    "\n",
    "figName = cod + '_' + run + '_' + loop + '.png'\n"
   ]
  },
  {
   "cell_type": "markdown",
   "metadata": {},
   "source": [
    "# Execução"
   ]
  },
  {
   "cell_type": "markdown",
   "metadata": {},
   "source": [
    "### Abaixo você deve colocar o caminho do código em Python Notebook que deverá ser testado"
   ]
  },
  {
   "cell_type": "code",
   "execution_count": 5,
   "metadata": {},
   "outputs": [],
   "source": [
    "%%capture\n",
    "\n",
    "def firstCode():\n",
    "    try:\n",
    "        %run ./lifeExpectancy.ipynb\n",
    "    except:\n",
    "        print(\"Não foi possível executar sua aplicação\")\n",
    "\n",
    "def secondCode():\n",
    "    try:\n",
    "        %run ./lifeExpectancy.ipynb\n",
    "    except:\n",
    "        print(\"Não foi possível executar sua aplicação\")\n",
    "    \n",
    "def thirdCode():\n",
    "    try:\n",
    "        %run ./lifeExpectancy.ipynb\n",
    "    except:\n",
    "        print(\"Não foi possível executar sua aplicação\")"
   ]
  },
  {
   "cell_type": "markdown",
   "metadata": {},
   "source": [
    "# Testes"
   ]
  },
  {
   "cell_type": "markdown",
   "metadata": {},
   "source": [
    "### Os valores numericos abaixo correspondem respectivamente, LOOP e RUN (Esses valores afetam no resultado dos testes)"
   ]
  },
  {
   "cell_type": "markdown",
   "metadata": {},
   "source": [
    "### RUN = Corresponde ao número de vezes que o seu código será executado, a média de tempo é tirada através do número total de RUNS."
   ]
  },
  {
   "cell_type": "markdown",
   "metadata": {},
   "source": [
    "### LOOP = Corresponde ao número de vezes que seu código será executado, o desvio padrão é tirado do número total de loops. A cada série de loops será considerado o melhor valor. Ajuste o número de loops de acordo com a necessidade precisão do resultado."
   ]
  },
  {
   "cell_type": "markdown",
   "metadata": {},
   "source": [
    "### O número do total de vezes que seu código será executado é definido por LOOP x RUN, tenha isso em mente quando for alterar os valores."
   ]
  },
  {
   "cell_type": "markdown",
   "metadata": {},
   "source": [
    "### Atenção: Por padrão o número de runs é definido por 30 conforme abordado no teste amostral do Raj Jain, no entanto você é livre para alterar esse valor"
   ]
  },
  {
   "cell_type": "code",
   "execution_count": 6,
   "metadata": {},
   "outputs": [],
   "source": [
    "%%capture\n",
    "path = caminhoA\n",
    "%store path\n",
    "a = %timeit -n 2 -r 30 -o firstCode()"
   ]
  },
  {
   "cell_type": "code",
   "execution_count": 7,
   "metadata": {},
   "outputs": [],
   "source": [
    "%%capture\n",
    "path = caminhoB\n",
    "%store path\n",
    "b = %timeit -n 2 -r 30 -o secondCode()"
   ]
  },
  {
   "cell_type": "code",
   "execution_count": 8,
   "metadata": {},
   "outputs": [],
   "source": [
    "%%capture\n",
    "path = caminhoC\n",
    "%store path\n",
    "c = %timeit -n 2 -r 30 -o thirdCode()"
   ]
  },
  {
   "cell_type": "markdown",
   "metadata": {},
   "source": [
    "# Resultados"
   ]
  },
  {
   "cell_type": "markdown",
   "metadata": {},
   "source": [
    "### O primeiro valor mostrado trata-se da Média Aritmética do Número de Runs"
   ]
  },
  {
   "cell_type": "markdown",
   "metadata": {},
   "source": [
    "### O segundo valor mostrado trata-se do Desvio padrão"
   ]
  },
  {
   "cell_type": "code",
   "execution_count": 9,
   "metadata": {},
   "outputs": [
    {
     "name": "stdout",
     "output_type": "stream",
     "text": [
      "\n",
      "- Tempo de execução HD:\n",
      "11.6 s ± 0 ns per loop (mean ± std. dev. of 1 run, 2 loops each)\n",
      "\n",
      "- Tempo de execução Gluster:\n",
      "5.79 s ± 0 ns per loop (mean ± std. dev. of 1 run, 2 loops each)\n",
      "\n",
      "- Tempo de execução SSD:\n",
      "5.28 s ± 0 ns per loop (mean ± std. dev. of 1 run, 2 loops each)\n"
     ]
    }
   ],
   "source": [
    "print(\"\")\n",
    "\n",
    "print(\"- Tempo de execução \" + A + \":\")\n",
    "print(a)\n",
    "\n",
    "print(\"\")\n",
    "\n",
    "print(\"- Tempo de execução \" + B + \":\")\n",
    "print(b)\n",
    "\n",
    "print(\"\")\n",
    "\n",
    "print(\"- Tempo de execução \" + C + \":\")\n",
    "print(c)\n"
   ]
  },
  {
   "cell_type": "markdown",
   "metadata": {},
   "source": [
    "# Gráfico"
   ]
  },
  {
   "cell_type": "markdown",
   "metadata": {},
   "source": [
    "### Ao final é apresentado um gráfico em barras verticais, e salvo em um arquivo PNG"
   ]
  },
  {
   "cell_type": "markdown",
   "metadata": {},
   "source": [
    "### Atenção: Por padrão, todos os valores de tempo são convertidos para segundos"
   ]
  },
  {
   "cell_type": "code",
   "execution_count": 10,
   "metadata": {},
   "outputs": [
    {
     "data": {
      "image/png": "[encoded data removed]",
      "text/plain": [
       "<Figure size 640x480 with 1 Axes>"
      ]
     },
     "metadata": {},
     "output_type": "display_data"
    }
   ],
   "source": [
    "plt.rcdefaults()\n",
    "fig, ax = plt.subplots()\n",
    "\n",
    "\n",
    "\n",
    "# Convertendo Objeto para String\n",
    "\n",
    "a = str(a)\n",
    "b = str(b)\n",
    "c = str(c)\n",
    "\n",
    "# Separando a média de tempo de cada componente testado e Convertendo tudo para Segundos caso não esteja\n",
    "\n",
    "aTime = convert.convert(float(a.split(' ')[0]), a.split(' ')[1])\n",
    "bTime = convert.convert(float(b.split(' ')[0]), b.split(' ')[1])\n",
    "cTime = convert.convert(float(c.split(' ')[0]), c.split(' ')[1])\n",
    "\n",
    "# Separando o desvio padrão de cada componente testado e Convertendo tudo para Segundos caso não esteja\n",
    "\n",
    "aDev = convert.convert(float(a.split(' ')[3]), a.split(' ')[4])\n",
    "bDev = convert.convert(float(b.split(' ')[3]), b.split(' ')[4])\n",
    "cDev = convert.convert(float(c.split(' ')[3]), c.split(' ')[4])\n",
    "\n",
    "# Atribuindo todos os dados ao gráfico\n",
    "\n",
    "people = (A, B, C)\n",
    "results = (aTime, bTime, cTime)\n",
    "dev = (aDev, bDev, cDev)\n",
    "\n",
    "x_pos = np.arange(len(people))\n",
    "performance = results\n",
    "\n",
    "error = dev\n",
    "\n",
    "plt.bar(x_pos, performance, yerr=error, align='center', alpha=0.4)\n",
    "plt.xticks(x_pos, people)\n",
    "plt.ylabel('Performance - Seconds')\n",
    "plt.title(title)\n",
    "\n",
    "\n",
    "plt.savefig(figName)\n",
    "plt.show()"
   ]
  }
 ],
 "metadata": {
  "kernelspec": {
   "display_name": "Python 3",
   "language": "python",
   "name": "python3"
  },
  "language_info": {
   "codemirror_mode": {
    "name": "ipython",
    "version": 3
   },
   "file_extension": ".py",
   "mimetype": "text/x-python",
   "name": "python",
   "nbconvert_exporter": "python",
   "pygments_lexer": "ipython3",
   "version": "3.6.8"
  }
 },
 "nbformat": 4,
 "nbformat_minor": 4
}
