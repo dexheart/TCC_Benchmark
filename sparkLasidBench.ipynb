{
 "cells": [
  {
   "cell_type": "code",
   "execution_count": 1,
   "metadata": {},
   "outputs": [],
   "source": [
    "from memory_profiler import memory_usage, profile\n",
    "import matplotlib.pyplot\n",
    "import time\n",
    "import psutil\n",
    "import os\n",
    "import constants\n",
    "import matplotlib.pyplot as plt\n",
    "import numpy as np\n",
    "\n"
   ]
  },
  {
   "cell_type": "code",
   "execution_count": 2,
   "metadata": {},
   "outputs": [],
   "source": [
    "# Parametros\n",
    "\n",
    "A = 'HD'\n",
    "B = 'Gluster'\n",
    "C = 'SSD'\n",
    "\n",
    "cod = 'LifeExp'\n",
    "run = '30r'\n",
    "loop = '2l'\n",
    "\n",
    "title = 'Desempenho do código ' + cod + ' | ' + run + ' x ' + loop\n",
    "\n",
    "figName = cod + '_' + run + '_' + loop + '.png'\n"
   ]
  },
  {
   "cell_type": "code",
   "execution_count": 3,
   "metadata": {},
   "outputs": [],
   "source": [
    "# Funções de conversão\n",
    "def mstos(x):\n",
    "    val = x/1000\n",
    "    return val\n",
    "      \n",
    "def ustos(x):\n",
    "    val = x/1000000\n",
    "    return val\n",
    "       \n",
    "def nstos(x):\n",
    "    val = x/1000000000\n",
    "    return val\n",
    "\n",
    "def convert(x,y):\n",
    "    if y == 'ms':\n",
    "        return mstos(x)\n",
    "    elif y == 'µs':\n",
    "        return ustos(x)\n",
    "    elif y == 'ns':\n",
    "        return nstos(x)\n",
    "    else:\n",
    "        return x\n",
    "        \n"
   ]
  },
  {
   "cell_type": "code",
   "execution_count": 4,
   "metadata": {},
   "outputs": [],
   "source": [
    "%%capture\n",
    "\n",
    "def lifeHD():\n",
    "    %run ./lifeExpectancyHD.ipynb\n",
    "\n",
    "    \n",
    "a = %timeit -n 2 -r 30 -o lifeHD()\n",
    "#a = %timeit -o lifeHD()"
   ]
  },
  {
   "cell_type": "code",
   "execution_count": 5,
   "metadata": {},
   "outputs": [],
   "source": [
    "%%capture\n",
    "\n",
    "def lifeGluster():\n",
    "    %run ./lifeExpectancyGluster.ipynb\n",
    "\n",
    "b = %timeit -n 2 -r 30 -o lifeGluster()\n",
    "#b = %timeit -o lifeGluster()"
   ]
  },
  {
   "cell_type": "code",
   "execution_count": null,
   "metadata": {},
   "outputs": [],
   "source": [
    "%%capture\n",
    "\n",
    "def lifeSSD():\n",
    "    %run ./lifeExpectancySSD.ipynb\n",
    "\n",
    "c = %timeit -n 2 -r 30 -o lifeSSD()\n",
    "#c = %timeit -o lifeSSD()"
   ]
  },
  {
   "cell_type": "code",
   "execution_count": null,
   "metadata": {},
   "outputs": [],
   "source": [
    "print(\"\")\n",
    "\n",
    "print(\"- Tempo de execução Expectativa de vida com HD: \")\n",
    "print(a)\n",
    "\n",
    "print(\"\")\n",
    "\n",
    "print(\"- Tempo de execução Expectativa de vida com Gluster: \")\n",
    "print(b)\n",
    "\n",
    "print(\"\")\n",
    "\n",
    "print(\"- Tempo de execução Expectativa de vida com SSD: \")\n",
    "print(c)\n"
   ]
  },
  {
   "cell_type": "code",
   "execution_count": null,
   "metadata": {},
   "outputs": [],
   "source": [
    "def mstos(x):\n",
    "    val = x/1000\n",
    "    return val\n",
    "      \n",
    "def ustos(x):\n",
    "    val = x/1000000\n",
    "    return val\n",
    "       \n",
    "def nstos(x):\n",
    "    val = x/1000000000\n",
    "    return val\n",
    "\n",
    "    "
   ]
  },
  {
   "cell_type": "code",
   "execution_count": null,
   "metadata": {},
   "outputs": [],
   "source": [
    "plt.rcdefaults()\n",
    "fig, ax = plt.subplots()\n",
    "\n",
    "# Convertendo Objeto para String\n",
    "\n",
    "a = str(a)\n",
    "b = str(b)\n",
    "c = str(c)\n",
    "\n",
    "# Separando a média de tempo de cada componente testado e Convertendo tudo para Segundos caso não esteja\n",
    "\n",
    "aTime = convert(float(a.split(' ')[0]), a.split(' ')[1])\n",
    "bTime = convert(float(b.split(' ')[0]), b.split(' ')[1])\n",
    "cTime = convert(float(c.split(' ')[0]), c.split(' ')[1])\n",
    "\n",
    "# Separando o desvio padrão de cada componente testado e Convertendo tudo para Segundos caso não esteja\n",
    "\n",
    "aDev = convert(float(a.split(' ')[3]), a.split(' ')[4])\n",
    "bDev = convert(float(b.split(' ')[3]), b.split(' ')[4])\n",
    "cDev = convert(float(c.split(' ')[3]), c.split(' ')[4])\n",
    "\n",
    "# Atribuindo todos os dados ao gráfico\n",
    "\n",
    "people = (A, B, C)\n",
    "results = (aTime, bTime, cTime)\n",
    "dev = (aDev, bDev, cDev)\n",
    "\n",
    "y_pos = np.arange(len(people))\n",
    "performance = results\n",
    "\n",
    "error = dev\n",
    "\n",
    "ax.barh(y_pos, performance, xerr=error, align='center')\n",
    "ax.set_yticks(y_pos)\n",
    "ax.set_yticklabels(people)\n",
    "ax.invert_yaxis()  # labels são lidos de cima para baixo\n",
    "ax.set_xlabel('Performance - Seconds')\n",
    "ax.set_title(title)\n",
    "\n",
    "plt.savefig(figName)\n",
    "plt.show()"
   ]
  }
 ],
 "metadata": {
  "kernelspec": {
   "display_name": "Python 3",
   "language": "python",
   "name": "python3"
  },
  "language_info": {
   "codemirror_mode": {
    "name": "ipython",
    "version": 3
   },
   "file_extension": ".py",
   "mimetype": "text/x-python",
   "name": "python",
   "nbconvert_exporter": "python",
   "pygments_lexer": "ipython3",
   "version": "3.6.8"
  }
 },
 "nbformat": 4,
 "nbformat_minor": 4
}
